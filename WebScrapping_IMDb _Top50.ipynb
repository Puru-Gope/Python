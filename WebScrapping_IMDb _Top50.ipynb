{
 "cells": [
  {
   "cell_type": "code",
   "execution_count": 3,
   "metadata": {},
   "outputs": [
    {
     "name": "stdout",
     "output_type": "stream",
     "text": [
      "9.2\n",
      "The Shawshank Redemption\n",
      "(1994)\n"
     ]
    }
   ],
   "source": [
    "from bs4 import BeautifulSoup\n",
    "import requests\n",
    "\n",
    "r= requests.get(\"https://www.imdb.com/chart/top/\")\n",
    "#print(r.ok)\n",
    "code=r.content\n",
    "\n",
    "soup=BeautifulSoup(code,\"html.parser\")\n",
    "#print(soup.prettify())\n",
    "article=soup.find(\"div\",class_=\"seen-collection\")\n",
    "table=article.find(\"td\",class_=\"titleColumn\")\n",
    "rating=article.find(\"td\",class_=\"ratingColumn imdbRating\").text.replace(\"\\n\",\"\")\n",
    "name=table.find(\"a\").text\n",
    "year=table.find(\"span\").text\n",
    "print(rating)\n",
    "print(name)\n",
    "print(year)\n",
    "#print(table.prettify())"
   ]
  },
  {
   "cell_type": "code",
   "execution_count": 4,
   "metadata": {},
   "outputs": [
    {
     "name": "stdout",
     "output_type": "stream",
     "text": [
      "['9.2', '9.1', '9.0', '9.0', '8.9', '8.9', '8.9', '8.8', '8.8', '8.8', '8.8', '8.8', '8.7', '8.7', '8.7', '8.6', '8.6', '8.6', '8.6', '8.6', '8.6', '8.6', '8.6', '8.6', '8.6', '8.5', '8.5', '8.5', '8.5', '8.5', '8.5', '8.5', '8.5', '8.5', '8.5', '8.5', '8.5', '8.5', '8.5', '8.5', '8.5', '8.5', '8.5', '8.5', '8.5', '8.5', '8.5', '8.5', '8.4', '8.4', '8.4', '8.4', '8.4', '8.4', '8.4', '8.4', '8.4', '8.4', '8.4', '8.4', '8.4', '8.4', '8.4', '8.4', '8.4', '8.4', '8.4', '8.4', '8.4', '8.3', '8.3', '8.3', '8.3', '8.3', '8.3', '8.3', '8.3', '8.3', '8.3', '8.3', '8.3', '8.3', '8.3', '8.3', '8.3', '8.3', '8.3', '8.3', '8.3', '8.3', '8.3', '8.3', '8.3', '8.3', '8.3', '8.3', '8.3', '8.3', '8.3', '8.2', '8.2', '8.2', '8.2', '8.2', '8.2', '8.2', '8.2', '8.2', '8.2', '8.2', '8.2', '8.2', '8.2', '8.2', '8.2', '8.2', '8.2', '8.2', '8.2', '8.2', '8.2', '8.2', '8.2', '8.2', '8.2', '8.2', '8.2', '8.2', '8.2', '8.2', '8.2', '8.2', '8.2', '8.2', '8.2', '8.2', '8.2', '8.2', '8.2', '8.2', '8.2', '8.2', '8.2', '8.2', '8.1', '8.1', '8.1', '8.1', '8.1', '8.1', '8.1', '8.1', '8.1', '8.1', '8.1', '8.1', '8.1', '8.1', '8.1', '8.1', '8.1', '8.1', '8.1', '8.1', '8.1', '8.1', '8.1', '8.1', '8.1', '8.1', '8.1', '8.1', '8.1', '8.1', '8.1', '8.1', '8.1', '8.1', '8.1', '8.1', '8.1', '8.1', '8.1', '8.1', '8.1', '8.1', '8.1', '8.1', '8.1', '8.1', '8.1', '8.1', '8.1', '8.1', '8.1', '8.1', '8.1', '8.1', '8.1', '8.1', '8.1', '8.1', '8.1', '8.1', '8.1', '8.1', '8.1', '8.1', '8.1', '8.1', '8.1', '8.1', '8.1', '8.1', '8.1', '8.1', '8.0', '8.0', '8.0', '8.0', '8.0', '8.0', '8.0', '8.0', '8.0', '8.0', '8.0', '8.0', '8.0', '8.0', '8.0', '8.0', '8.0', '8.0', '8.0', '8.0', '8.0', '8.0', '8.0', '8.0', '8.0', '8.0', '8.0', '8.0', '8.0', '8.0', '8.0', '8.0', '8.0', '8.0']\n"
     ]
    }
   ],
   "source": [
    "trow=soup.find(\"tbody\",class_=\"lister-list\")\n",
    "#print(trow)\n",
    "MovieList=[]\n",
    "YearList=[]\n",
    "RatingList=[]\n",
    "for yr in article.find_all(\"td\",class_=\"titleColumn\"):\n",
    "    #print(yr.find(\"a\").text)\n",
    "    #yrs=yr.find(\"a\").text.replace(\" \",\"\")\n",
    "    MovieList.append(yr.find(\"a\").text)\n",
    "    #print(yr.find(\"span\").text)\n",
    "    YearList.append(yr.find(\"span\").text)\n",
    "    #print()\n",
    "for yr1 in article.find_all(\"td\",class_=\"ratingColumn imdbRating\"):\n",
    "    rat=yr1.text.replace(\"\\n\",\"\")\n",
    "    RatingList.append(rat)\n",
    "print(RatingList)\n",
    "#print(YearList)"
   ]
  },
  {
   "cell_type": "code",
   "execution_count": 6,
   "metadata": {},
   "outputs": [],
   "source": [
    "MyMovieList=[]\n",
    "for (i,j,k) in zip(MovieList,YearList,RatingList):\n",
    "    MyMovieList.append([i,j,k])\n",
    "#print(MyMovieList) \n",
    "import pandas\n",
    "\n",
    "df=pandas.DataFrame(MyMovieList,columns=[\"Title\",\"Year\",\"Rating\"])\n",
    "df.to_csv(\"Imdb_top50.csv\")"
   ]
  }
 ],
 "metadata": {
  "kernelspec": {
   "display_name": "Python 3",
   "language": "python",
   "name": "python3"
  },
  "language_info": {
   "codemirror_mode": {
    "name": "ipython",
    "version": 3
   },
   "file_extension": ".py",
   "mimetype": "text/x-python",
   "name": "python",
   "nbconvert_exporter": "python",
   "pygments_lexer": "ipython3",
   "version": "3.7.4"
  }
 },
 "nbformat": 4,
 "nbformat_minor": 2
}
